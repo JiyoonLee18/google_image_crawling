{
  "nbformat": 4,
  "nbformat_minor": 0,
  "metadata": {
    "colab": {
      "provenance": []
    },
    "kernelspec": {
      "name": "python3",
      "display_name": "Python 3"
    },
    "language_info": {
      "name": "python"
    }
  },
  "cells": [
    {
      "cell_type": "code",
      "source": [
        "# 이 부분은 처음 한번만 실행하면 됌.\n",
        "# 코드 수정 - \"The reason is that the last Ubuntu update update supports chromium driver just via snap.\"\n",
        "# 최근 우분투 업데이트에서 크롬 드라이버 설치를 snap을 이용해서만 하도록 바뀜\n",
        "# 고로 snap 없이 설치하는 아래 우회 코드로 변경\n",
        "# 출처 : https://colab.research.google.com/drive/1cbEvuZOhkouYLda3RqiwtbM-o9hxGLyC\n",
        "# 출처2 : https://stackoverflow.com/questions/75155063/selenium-use-chrome-on-colab-got-unexpectedly-exited\n",
        "\n",
        "%%shell\n",
        "# Ubuntu no longer distributes chromium-browser outside of snap\n",
        "#\n",
        "# Proposed solution: https://askubuntu.com/questions/1204571/how-to-install-chromium-without-snap\n",
        "\n",
        "# Add debian buster\n",
        "cat > /etc/apt/sources.list.d/debian.list <<'EOF'\n",
        "deb [arch=amd64 signed-by=/usr/share/keyrings/debian-buster.gpg] http://deb.debian.org/debian buster main\n",
        "deb [arch=amd64 signed-by=/usr/share/keyrings/debian-buster-updates.gpg] http://deb.debian.org/debian buster-updates main\n",
        "deb [arch=amd64 signed-by=/usr/share/keyrings/debian-security-buster.gpg] http://deb.debian.org/debian-security buster/updates main\n",
        "EOF\n",
        "\n",
        "# Add keys\n",
        "apt-key adv --keyserver keyserver.ubuntu.com --recv-keys DCC9EFBF77E11517\n",
        "apt-key adv --keyserver keyserver.ubuntu.com --recv-keys 648ACFD622F3D138\n",
        "apt-key adv --keyserver keyserver.ubuntu.com --recv-keys 112695A0E562B32A\n",
        "\n",
        "apt-key export 77E11517 | gpg --dearmour -o /usr/share/keyrings/debian-buster.gpg\n",
        "apt-key export 22F3D138 | gpg --dearmour -o /usr/share/keyrings/debian-buster-updates.gpg\n",
        "apt-key export E562B32A | gpg --dearmour -o /usr/share/keyrings/debian-security-buster.gpg\n",
        "\n",
        "# Prefer debian repo for chromium* packages only\n",
        "# Note the double-blank lines between entries\n",
        "cat > /etc/apt/preferences.d/chromium.pref << 'EOF'\n",
        "Package: *\n",
        "Pin: release a=eoan\n",
        "Pin-Priority: 500\n",
        "\n",
        "\n",
        "Package: *\n",
        "Pin: origin \"deb.debian.org\"\n",
        "Pin-Priority: 300\n",
        "\n",
        "\n",
        "Package: chromium*\n",
        "Pin: origin \"deb.debian.org\"\n",
        "Pin-Priority: 700\n",
        "EOF\n",
        "\n",
        "# Install chromium and chromium-driver\n",
        "apt-get update\n",
        "apt-get install chromium chromium-driver"
      ],
      "metadata": {
        "id": "F5RMlky8qkzb"
      },
      "execution_count": null,
      "outputs": []
    },
    {
      "cell_type": "markdown",
      "source": [
        "# 중요 포인트\n",
        "- 셀레니움을 4.7로 다운해주세용..!"
      ],
      "metadata": {
        "id": "MTxv7VkFtMQN"
      }
    },
    {
      "cell_type": "code",
      "source": [
        "# Install selenium\n",
        "!pip install selenium==4.7"
      ],
      "metadata": {
        "id": "3yNYTW-Jq66y"
      },
      "execution_count": null,
      "outputs": []
    },
    {
      "cell_type": "code",
      "source": [
        "from selenium import webdriver\n",
        "from bs4 import BeautifulSoup\n",
        "import pandas as pd\n",
        "from selenium.webdriver.common.keys import Keys\n",
        "from selenium.webdriver.common.by import By\n",
        "import time\n",
        "from tqdm import tqdm\n",
        "import numpy as np\n",
        "from datetime import datetime\n",
        "import re\n",
        "import math"
      ],
      "metadata": {
        "id": "1FQ1M0GpwZjL"
      },
      "execution_count": null,
      "outputs": []
    },
    {
      "cell_type": "code",
      "source": [
        "#Colab에선 웹브라우저 창이 뜨지 않으므로 별도 설정한다.\n",
        "\n",
        "options = webdriver.ChromeOptions()\n",
        "options.add_argument('--headless')        # Head-less 설정\n",
        "options.add_argument('--no-sandbox')\n",
        "options.add_argument('--disable-dev-shm-usage')\n",
        "driver = webdriver.Chrome('chromedriver' ,options=options)"
      ],
      "metadata": {
        "id": "HxIHbRKcwcUR"
      },
      "execution_count": null,
      "outputs": []
    },
    {
      "cell_type": "markdown",
      "source": [
        "## 크롤링 코드\n",
        "- 참조: https://intelloper.tistory.com/55\n",
        "- 스크롤\n",
        "- 이미지 url, 이미지 이름 가져오는 코드"
      ],
      "metadata": {
        "id": "Bzzw2VKitQHU"
      }
    },
    {
      "cell_type": "code",
      "source": [
        "def image_crawl(searchKey):\n",
        "    driver.get(\"https://www.google.co.kr/imghp?hl=ko&tab=wi&authuser=0&ogbl\")\n",
        "\n",
        "    # 키워드 입력 및 검색 클릭\n",
        "    elem = driver.find_element(\"name\", \"q\")\n",
        "    elem.send_keys(searchKey)\n",
        "    elem.send_keys(Keys.RETURN)\n",
        "\n",
        "    # 스크롤 (느릴경우 sleep시간 더 길게)\n",
        "    last_height = driver.execute_script(\"return document.body.scrollHeight\")\n",
        "    while True:\n",
        "        driver.execute_script(\"window.scrollTo(0, document.body.scrollHeight);\")\n",
        "        time.sleep(5)\n",
        "        new_height = driver.execute_script(\"return document.body.scrollHeight\")\n",
        "        if new_height == last_height:\n",
        "            try:\n",
        "                driver.find_element(By.CSS_SELECTOR, \".mye4qd\").click() #결과 더 보기 버튼 클릭\n",
        "                time.sleep(2)\n",
        "            except:\n",
        "                break\n",
        "        last_height = new_height\n",
        "\n",
        "    # 크롤링 (이미지 url, 이미지 이름)\n",
        "    images = driver.find_elements(By.CLASS_NAME, 'rg_i.Q4LuWd')\n",
        "    img_list=[]\n",
        "    for image in tqdm(images):\n",
        "        try:\n",
        "            image.click()\n",
        "            time.sleep(2)\n",
        "            img_url=driver.find_element(By.CLASS_NAME, \"r48jcc.pT0Scc.iPVvYb\").get_attribute(\"src\")\n",
        "            img_name=driver.find_element(By.XPATH, '//*[@id=\"Sva75c\"]/div[2]/div/div[2]/div[2]/div[2]/c-wiz/div/div/div/div[4]/div[1]/a[1]/h3').text\n",
        "            img_list.append([img_url, img_name])\n",
        "        except:\n",
        "            pass\n",
        "    img_df=pd.DataFrame(img_list, columns=[\"img_url\",\"img_name\"])\n",
        "    return img_df\n"
      ],
      "metadata": {
        "id": "PzLQnIQjPYs-"
      },
      "execution_count": null,
      "outputs": []
    },
    {
      "cell_type": "code",
      "source": [
        "## 활용 예시\n",
        "searchKey=\"키워드\"\n",
        "img_df=image_crawl(searchKey)"
      ],
      "metadata": {
        "colab": {
          "base_uri": "https://localhost:8080/"
        },
        "id": "affOlhg3rcQs",
        "outputId": "801a99de-5a6e-4fe4-b72f-313077ff2d9b"
      },
      "execution_count": null,
      "outputs": [
        {
          "output_type": "stream",
          "name": "stderr",
          "text": [
            " 11%|█▏        | 99/866 [04:05<31:11,  2.44s/it]"
          ]
        }
      ]
    }
  ]
}